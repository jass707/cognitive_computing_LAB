{
  "cells": [
    {
      "cell_type": "markdown",
      "source": [],
      "metadata": {
        "id": "4nR5_MTJC266"
      }
    },
    {
      "cell_type": "markdown",
      "source": [
        "\n",
        "Assingment 1.1 **bold text**: WAP to print your name three times"
      ],
      "metadata": {
        "id": "G6E46Q0EDBJ6"
      }
    },
    {
      "cell_type": "code",
      "execution_count": 12,
      "metadata": {
        "id": "hEgZWkbv_gco",
        "colab": {
          "base_uri": "https://localhost:8080/"
        },
        "outputId": "c881db52-266b-4181-8538-95ff17c2a1d8"
      },
      "outputs": [
        {
          "output_type": "stream",
          "name": "stdout",
          "text": [
            "Jasman Singh\n",
            "Jasman Singh\n",
            "Jasman Singh\n"
          ]
        }
      ],
      "source": [
        "\n",
        "for i in range(3):\n",
        "    print(\"Jasman Singh\")"
      ]
    },
    {
      "cell_type": "markdown",
      "source": [
        "\n",
        "Assingment 2.1: WAP to add three numbers and print the result."
      ],
      "metadata": {
        "id": "CsNJyr2qDN61"
      }
    },
    {
      "cell_type": "code",
      "execution_count": 13,
      "metadata": {
        "id": "DIh03Gew_qg7",
        "colab": {
          "base_uri": "https://localhost:8080/"
        },
        "outputId": "ede671fb-0cbb-4c3a-fe91-ba81ca8acc93"
      },
      "outputs": [
        {
          "output_type": "stream",
          "name": "stdout",
          "text": [
            "10+220+30 --> 260\n"
          ]
        }
      ],
      "source": [
        "a = 10\n",
        "b = 220\n",
        "c = 30\n",
        "d = a+b+c\n",
        "print(f\"{a}+{b}+{c} --> {d}\")\n",
        "\n"
      ]
    },
    {
      "cell_type": "markdown",
      "source": [
        "\n",
        "Assingment 2.2: WAP to concatinate three strings and print the result"
      ],
      "metadata": {
        "id": "Nj1WO8xNDQI9"
      }
    },
    {
      "cell_type": "code",
      "execution_count": 14,
      "metadata": {
        "id": "kyaAdp8Z_xVA",
        "colab": {
          "base_uri": "https://localhost:8080/"
        },
        "outputId": "9c9b1725-15b3-4778-bc6f-59c4b61b4580"
      },
      "outputs": [
        {
          "output_type": "stream",
          "name": "stdout",
          "text": [
            "Hello +Jasman + Singh --> Hello Jasman Singh\n"
          ]
        }
      ],
      "source": [
        "hello = \"Hello \"\n",
        "a = \"Jasman\"\n",
        "b = \" Singh\"\n",
        "final = hello+a+b\n",
        "print (f\"{hello}+{a} +{b} --> {final}\")"
      ]
    },
    {
      "cell_type": "markdown",
      "source": [
        "Assingment 4.1: WAP to print the table of 7, 9."
      ],
      "metadata": {
        "id": "WBxv159XDUOd"
      }
    },
    {
      "cell_type": "code",
      "execution_count": 15,
      "metadata": {
        "id": "bZJV9ekH_zdJ",
        "colab": {
          "base_uri": "https://localhost:8080/"
        },
        "outputId": "84571f75-8db4-43f8-9ba9-1ab35fbc9e4f"
      },
      "outputs": [
        {
          "output_type": "stream",
          "name": "stdout",
          "text": [
            "7 X 0 = 0\n",
            "7 X 1 = 7\n",
            "7 X 2 = 14\n",
            "7 X 3 = 21\n",
            "7 X 4 = 28\n",
            "7 X 5 = 35\n",
            "7 X 6 = 42\n",
            "7 X 7 = 49\n",
            "7 X 8 = 56\n",
            "7 X 9 = 63\n",
            "7 X 10 = 70\n"
          ]
        }
      ],
      "source": [
        "for i in range(11):\n",
        "    print(f\"7 X {i} = {7*i}\")"
      ]
    },
    {
      "cell_type": "markdown",
      "source": [],
      "metadata": {
        "id": "nleZKAlpDXMN"
      }
    },
    {
      "cell_type": "code",
      "execution_count": 16,
      "metadata": {
        "id": "HleTqHTb_2Gc",
        "colab": {
          "base_uri": "https://localhost:8080/"
        },
        "outputId": "c8fb02ae-eef1-4cc4-c56b-5cebda740cda"
      },
      "outputs": [
        {
          "output_type": "stream",
          "name": "stdout",
          "text": [
            "9 X 0 = 0\n",
            "9 X 1 = 9\n",
            "9 X 2 = 18\n",
            "9 X 3 = 27\n",
            "9 X 4 = 36\n",
            "9 X 5 = 45\n",
            "9 X 6 = 54\n",
            "9 X 7 = 63\n",
            "9 X 8 = 72\n",
            "9 X 9 = 81\n",
            "9 X 10 = 90\n"
          ]
        }
      ],
      "source": [
        "for i in range(11):\n",
        "    print(f\"9 X {i} = {9*i}\")"
      ]
    },
    {
      "cell_type": "markdown",
      "source": [
        "Assingment 4.3: WAP to add all the numbers from 1 to n and n is given by user."
      ],
      "metadata": {
        "id": "WaqfoNfsDkOs"
      }
    },
    {
      "cell_type": "code",
      "execution_count": 17,
      "metadata": {
        "colab": {
          "base_uri": "https://localhost:8080/"
        },
        "id": "jicaVKtQ_4XQ",
        "outputId": "e843b633-3d83-4a18-fc0f-46bc2624d65a"
      },
      "outputs": [
        {
          "output_type": "stream",
          "name": "stdout",
          "text": [
            "Enter the number5\n",
            "15.0\n"
          ]
        }
      ],
      "source": [
        "n = int(input(\"Enter the number\"))\n",
        "result = n*(n+1)/2\n",
        "print(result)"
      ]
    },
    {
      "cell_type": "markdown",
      "source": [
        "Assingment 5.1: WAP to find max amoung three numbers and input from user. [Try max() function]"
      ],
      "metadata": {
        "id": "k_WAXrpgDmMz"
      }
    },
    {
      "cell_type": "code",
      "execution_count": 19,
      "metadata": {
        "id": "Mf9OlzHA_6oL",
        "colab": {
          "base_uri": "https://localhost:8080/"
        },
        "outputId": "53bf7f8c-716d-4e25-8e77-e10eb9db11e4"
      },
      "outputs": [
        {
          "output_type": "stream",
          "name": "stdout",
          "text": [
            "Enter the 0th number5\n",
            "Enter the 1th number7\n",
            "Enter the 2th number9\n",
            "[5, 7, 9]\n",
            "9\n"
          ]
        }
      ],
      "source": [
        "\n",
        "list1 = []\n",
        "for i in range(3):\n",
        "    list1.append(int(input(f\"Enter the {i}th number\")))\n",
        "print(list1)\n",
        "print(max(list1))\n"
      ]
    },
    {
      "cell_type": "markdown",
      "source": [
        "\n",
        "Assingment 5.2: WAP to add all numbers divisible by 7 and 9 from 1 to n and n is given by the user."
      ],
      "metadata": {
        "id": "ZdBwSkDKDsWy"
      }
    },
    {
      "cell_type": "code",
      "execution_count": 20,
      "metadata": {
        "id": "ZKqbevHO_8Qg",
        "colab": {
          "base_uri": "https://localhost:8080/"
        },
        "outputId": "cfcbb457-62b4-49b0-8538-203e6af29643"
      },
      "outputs": [
        {
          "output_type": "stream",
          "name": "stdout",
          "text": [
            "Enter a No: 21\n",
            "69\n"
          ]
        }
      ],
      "source": [
        "n = int(input(\"Enter a No: \"))\n",
        "sum=0\n",
        "for i in range(n+1):\n",
        "    if(i%7==0 or i%9==0):\n",
        "        sum+=i\n",
        "print(sum)"
      ]
    },
    {
      "cell_type": "markdown",
      "source": [
        "Assingment 5.3: WAP to add all prime numbers from 1 to n and n is given by the user."
      ],
      "metadata": {
        "id": "87a5EbHLDxpX"
      }
    },
    {
      "cell_type": "code",
      "execution_count": 21,
      "metadata": {
        "id": "0HOivJ_E_9xy",
        "colab": {
          "base_uri": "https://localhost:8080/"
        },
        "outputId": "b2cadd0c-ecd7-4b8a-d243-46fd5818cecd"
      },
      "outputs": [
        {
          "output_type": "stream",
          "name": "stdout",
          "text": [
            "Enter a No: 50\n",
            "328\n"
          ]
        }
      ],
      "source": [
        "\n",
        "n = int(input(\"Enter a No: \"))\n",
        "sum =0\n",
        "for i in range(2, n+1):\n",
        "    flag =0\n",
        "    for div in range(2, int(i**0.5) + 1):\n",
        "    \tif  i%div == 0:\n",
        "    \t\tflag =1\n",
        "    \t\tbreak\n",
        "    if flag ==0:\n",
        "    \tsum+=i\n",
        "print(sum)"
      ]
    },
    {
      "cell_type": "markdown",
      "source": [
        "\n",
        "Assingment 6.1: WAP using function that add all odd numbers from 1 to n, n is given by the user."
      ],
      "metadata": {
        "id": "eTnYE0TGD3At"
      }
    },
    {
      "cell_type": "markdown",
      "source": [],
      "metadata": {
        "id": "WQfwRPpDD29V"
      }
    },
    {
      "cell_type": "code",
      "execution_count": 22,
      "metadata": {
        "id": "8R-sAyv2ABGK",
        "colab": {
          "base_uri": "https://localhost:8080/"
        },
        "outputId": "4330ad34-81bd-4600-b3c2-10f50a9a4e7d"
      },
      "outputs": [
        {
          "output_type": "stream",
          "name": "stdout",
          "text": [
            "9\n"
          ]
        }
      ],
      "source": [
        "def odd(n):\n",
        "    sum=0\n",
        "    for i in range(n+1):\n",
        "        if(i%2!=0):\n",
        "            sum+=i\n",
        "    return sum\n",
        "result = odd(5)\n",
        "print(result)"
      ]
    },
    {
      "cell_type": "markdown",
      "source": [
        "\n",
        "Assingment 6.2: WAP using function that add all prime numbers from 1 to n, n given by the user."
      ],
      "metadata": {
        "id": "4wHjNP35D6kd"
      }
    },
    {
      "cell_type": "code",
      "execution_count": 23,
      "metadata": {
        "id": "VJfZLmkcADQX",
        "colab": {
          "base_uri": "https://localhost:8080/"
        },
        "outputId": "58f121fc-8036-4c77-b56a-5c48170cc7a8"
      },
      "outputs": [
        {
          "output_type": "stream",
          "name": "stdout",
          "text": [
            "10\n"
          ]
        }
      ],
      "source": [
        "def odd(n):\n",
        "    sum=0\n",
        "    for i in range(2, n+1):\n",
        "        flag=0\n",
        "        for div in range(2, int(i**0.5)+1):\n",
        "            if(i%div==0):\n",
        "                flag=1\n",
        "                break\n",
        "        if(flag==0):\n",
        "            sum+=i\n",
        "    return sum\n",
        "result = odd(5)\n",
        "print(result)"
      ]
    },
    {
      "cell_type": "markdown",
      "metadata": {
        "id": "nW69jj8i_t9Y"
      },
      "source": []
    }
  ],
  "metadata": {
    "colab": {
      "provenance": [],
      "gpuType": "V28"
    },
    "kernelspec": {
      "display_name": "Python 3",
      "name": "python3"
    },
    "language_info": {
      "name": "python"
    },
    "accelerator": "TPU"
  },
  "nbformat": 4,
  "nbformat_minor": 0
}