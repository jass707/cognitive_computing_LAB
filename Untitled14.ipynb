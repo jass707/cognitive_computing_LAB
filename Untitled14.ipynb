{
  "cells": [
    {
      "cell_type": "code",
      "execution_count": null,
      "metadata": {
        "id": "hEgZWkbv_gco"
      },
      "outputs": [],
      "source": [
        "\n",
        "for i in range(3):\n",
        "    print(\"Jasman Singh\")"
      ]
    },
    {
      "cell_type": "code",
      "execution_count": null,
      "metadata": {
        "id": "DIh03Gew_qg7"
      },
      "outputs": [],
      "source": [
        "a = 10\n",
        "b = 220\n",
        "c = 30\n",
        "d = a+b+c\n",
        "print(f\"{a}+{b}+{c} --> {d}\")\n",
        "\n"
      ]
    },
    {
      "cell_type": "code",
      "execution_count": null,
      "metadata": {
        "id": "kyaAdp8Z_xVA"
      },
      "outputs": [],
      "source": [
        "hello = \"Hello \"\n",
        "a = \"Jasman\"\n",
        "b = \" Singh\"\n",
        "final = hello+a+b\n",
        "print (f\"{hello}+{a} +{b} --> {final}\")"
      ]
    },
    {
      "cell_type": "code",
      "execution_count": null,
      "metadata": {
        "id": "bZJV9ekH_zdJ"
      },
      "outputs": [],
      "source": [
        "for i in range(11):\n",
        "    print(f\"7 X {i} = {7*i}\")"
      ]
    },
    {
      "cell_type": "code",
      "execution_count": null,
      "metadata": {
        "id": "HleTqHTb_2Gc"
      },
      "outputs": [],
      "source": [
        "for i in range(11):\n",
        "    print(f\"9 X {i} = {9*i}\")"
      ]
    },
    {
      "cell_type": "code",
      "execution_count": null,
      "metadata": {
        "colab": {
          "background_save": true
        },
        "id": "jicaVKtQ_4XQ",
        "outputId": "45142641-1f79-447f-8249-f896c7ddf94a"
      },
      "outputs": [
        {
          "name": "stdout",
          "output_type": "stream",
          "text": [
            "55.0\n"
          ]
        }
      ],
      "source": [
        "n = int(input(\"Enter the number\"))\n",
        "result = n*(n+1)/2\n",
        "print(result)"
      ]
    },
    {
      "cell_type": "code",
      "execution_count": null,
      "metadata": {
        "id": "Mf9OlzHA_6oL"
      },
      "outputs": [],
      "source": [
        "\n",
        "list1 = []\n",
        "for i in range(3):\n",
        "    list1.append(int(input(f\"Enter the {i}th number\")))\n",
        "print(list1)\n",
        "print(max(list1))\n"
      ]
    },
    {
      "cell_type": "code",
      "execution_count": null,
      "metadata": {
        "id": "ZKqbevHO_8Qg"
      },
      "outputs": [],
      "source": [
        "n = int(input(\"Enter a No: \"))\n",
        "sum=0\n",
        "for i in range(n+1):\n",
        "    if(i%7==0 or i%9==0):\n",
        "        sum+=i\n",
        "print(sum)"
      ]
    },
    {
      "cell_type": "code",
      "execution_count": null,
      "metadata": {
        "id": "0HOivJ_E_9xy"
      },
      "outputs": [],
      "source": [
        "\n",
        "n = int(input(\"Enter a No: \"))\n",
        "sum =0\n",
        "for i in range(2, n+1):\n",
        "    flag =0\n",
        "    for div in range(2, int(i**0.5) + 1):\n",
        "    \tif  i%div == 0:\n",
        "    \t\tflag =1\n",
        "    \t\tbreak\n",
        "    if flag ==0:\n",
        "    \tsum+=i\n",
        "print(sum)"
      ]
    },
    {
      "cell_type": "code",
      "execution_count": null,
      "metadata": {
        "id": "8R-sAyv2ABGK"
      },
      "outputs": [],
      "source": [
        "def odd(n):\n",
        "    sum=0\n",
        "    for i in range(n+1):\n",
        "        if(i%2!=0):\n",
        "            sum+=i\n",
        "    return sum\n",
        "result = odd(5)\n",
        "print(result)"
      ]
    },
    {
      "cell_type": "code",
      "execution_count": null,
      "metadata": {
        "id": "VJfZLmkcADQX"
      },
      "outputs": [],
      "source": [
        "def odd(n):\n",
        "    sum=0\n",
        "    for i in range(2, n+1):\n",
        "        flag=0\n",
        "        for div in range(2, int(i**0.5)+1):\n",
        "            if(i%div==0):\n",
        "                flag=1\n",
        "                break\n",
        "        if(flag==0):\n",
        "            sum+=i\n",
        "    return sum\n",
        "result = odd(5)\n",
        "print(result)"
      ]
    },
    {
      "cell_type": "markdown",
      "metadata": {
        "id": "nW69jj8i_t9Y"
      },
      "source": []
    }
  ],
  "metadata": {
    "colab": {
      "provenance": []
    },
    "kernelspec": {
      "display_name": "Python 3",
      "name": "python3"
    },
    "language_info": {
      "name": "python"
    }
  },
  "nbformat": 4,
  "nbformat_minor": 0
}