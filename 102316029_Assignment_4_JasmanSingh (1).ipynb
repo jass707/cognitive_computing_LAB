{
  "nbformat": 4,
  "nbformat_minor": 0,
  "metadata": {
    "colab": {
      "provenance": []
    },
    "kernelspec": {
      "name": "python3",
      "display_name": "Python 3"
    },
    "language_info": {
      "name": "python"
    }
  },
  "cells": [
    {
      "cell_type": "markdown",
      "source": [
        "**Assignment**"
      ],
      "metadata": {
        "id": "85YLF1b8FY63"
      }
    },
    {
      "cell_type": "code",
      "execution_count": 23,
      "metadata": {
        "id": "COsY_C97-V3o"
      },
      "outputs": [],
      "source": [
        "import numpy as np"
      ]
    },
    {
      "cell_type": "markdown",
      "source": [
        "**Q.1** Write a program to create a NumPy 1D-array with 5 elements and perform basic operations like:\n",
        "\n",
        "a) Addition of 2 in all the element\n",
        "\n",
        "b) Multiply 3 with all the elements\n",
        "\n",
        "c) Divide every element by 2"
      ],
      "metadata": {
        "id": "oiuCHtW0Fb3F"
      }
    },
    {
      "cell_type": "code",
      "source": [
        "arr1 = np.array([5,7,1,2,9])\n",
        "arr2 = arr1+2\n",
        "print(arr2)\n",
        "arr3 = arr1*3\n",
        "print(arr3)\n",
        "arr4 = arr1/2\n",
        "print(arr4)\n"
      ],
      "metadata": {
        "colab": {
          "base_uri": "https://localhost:8080/"
        },
        "id": "9CuNyUDCESP2",
        "outputId": "51f92bbd-5b4e-4375-cc87-fde8eac6da90"
      },
      "execution_count": 24,
      "outputs": [
        {
          "output_type": "stream",
          "name": "stdout",
          "text": [
            "[ 7  9  3  4 11]\n",
            "[15 21  3  6 27]\n",
            "[2.5 3.5 0.5 1.  4.5]\n"
          ]
        }
      ]
    },
    {
      "cell_type": "markdown",
      "source": [
        "**Q.2** Questions on Basic NumPy Array:\n",
        "\n",
        "**a)** Reverse the NumPy array: arr = np.array([1, 2, 3, 6, 4, 5])"
      ],
      "metadata": {
        "id": "quWEvknxF5VH"
      }
    },
    {
      "cell_type": "code",
      "source": [
        "arr = np.array([1, 2, 3, 6, 4, 5])\n",
        "print(arr[::-1])"
      ],
      "metadata": {
        "colab": {
          "base_uri": "https://localhost:8080/"
        },
        "id": "1_tPwxNgF_l0",
        "outputId": "a8a8963d-db64-4d24-d7ac-b35d35ee61a8"
      },
      "execution_count": 25,
      "outputs": [
        {
          "output_type": "stream",
          "name": "stdout",
          "text": [
            "[5 4 6 3 2 1]\n"
          ]
        }
      ]
    },
    {
      "cell_type": "markdown",
      "source": [
        "**Q.2**\n",
        "\n",
        "**b)** Find the most frequent value and their indice(s) in the following arrays:\n",
        "i. x = np.array([1,2,3,4,5,1,2,1,1,1])\n",
        "ii. y = np.array([1, 1, 1, 2, 3, 4, 2, 4, 3, 3, ])"
      ],
      "metadata": {
        "id": "XUBdltL3GAMP"
      }
    },
    {
      "cell_type": "code",
      "source": [
        "x = np.array([1,2,3,4,5,1,2,1,1,1])\n",
        "y = np.array([1, 1, 1, 2, 3, 4, 2, 4, 3, 3, ])\n",
        "elems, counts = np.unique(x, return_counts=True)\n",
        "print(elems)\n",
        "print(counts)\n",
        "print(f'Element with the most occurences : {elems[np.argmax(counts)]}')\n",
        "elemsY, countsY = np.unique(y, return_counts=True)\n",
        "print(elemsY)\n",
        "print(countsY)\n",
        "print(f'Element with the most occurences : {elems[np.argmax(counts)]}')"
      ],
      "metadata": {
        "colab": {
          "base_uri": "https://localhost:8080/"
        },
        "id": "0Tvdbw4HGM5Q",
        "outputId": "ca15f17b-b964-4821-ceb7-8cd584880e34"
      },
      "execution_count": 26,
      "outputs": [
        {
          "output_type": "stream",
          "name": "stdout",
          "text": [
            "[1 2 3 4 5]\n",
            "[5 2 1 1 1]\n",
            "Element with the most occurences : 1\n",
            "[1 2 3 4]\n",
            "[3 2 3 2]\n",
            "Element with the most occurences : 1\n"
          ]
        }
      ]
    },
    {
      "cell_type": "markdown",
      "source": [
        "**Q.3** For the given 2-D array arr=np.array([10, 20, 30], [40, 50, 60], [70, 80, 90]), access elements using row and column indices as follows:\n",
        "\n",
        "a) Access 1st row, 2nd column\n",
        "\n",
        "b) Access 3rd row, 1st column"
      ],
      "metadata": {
        "id": "LP9hqU0Nfb__"
      }
    },
    {
      "cell_type": "code",
      "source": [
        "arr=np.array([[10, 20, 30], [40, 50, 60], [70, 80, 90]])\n",
        "print(arr[0,1])\n",
        "print(arr[2,0])"
      ],
      "metadata": {
        "colab": {
          "base_uri": "https://localhost:8080/"
        },
        "id": "MCqX_HLefbcA",
        "outputId": "315ecb4d-815b-401c-a361-af0c087d28c8"
      },
      "execution_count": 27,
      "outputs": [
        {
          "output_type": "stream",
          "name": "stdout",
          "text": [
            "20\n",
            "70\n"
          ]
        }
      ]
    },
    {
      "cell_type": "markdown",
      "source": [
        "**Q.4** Write program to create an 1-D NumPy array named <<\\Your Name>> with evenly spaced 25 numbers from 10 to 100 using linspace().\n",
        "\n",
        "Print the dimensions of the array, shape, total elements, the data type of each element and total number of bytes consumed by the array.\n",
        "\n",
        " Find the transpose of this array using reshape() attribute.\n",
        "\n",
        "Can we do the same with T attribute?"
      ],
      "metadata": {
        "id": "yYDcthXGg2cB"
      }
    },
    {
      "cell_type": "code",
      "source": [
        "JasmanSingh= np.linspace(10,100,25)\n",
        "print(f'The array formed :{JasmanSingh}')\n",
        "print(f'Dimensions :{JasmanSingh.ndim}')\n",
        "print(f'Shape: {JasmanSingh.shape}')\n",
        "print(f'Elements: {JasmanSingh.size}')\n",
        "print(f'Data type :{JasmanSingh.dtype}')\n",
        "print(f'Bytes per elements: {JasmanSingh.itemsize}')\n",
        "print(f'Total bytes: {JasmanSingh.itemsize * JasmanSingh.size}')\n",
        "print(f'Reshaped :{JasmanSingh.reshape(25,1)}')\n",
        "\n",
        "print(JasmanSingh.reshape(25,1).T)\n"
      ],
      "metadata": {
        "colab": {
          "base_uri": "https://localhost:8080/"
        },
        "id": "wDoShEfifFKz",
        "outputId": "2ac61163-e3fc-4760-9faf-cc7478e95319"
      },
      "execution_count": 28,
      "outputs": [
        {
          "output_type": "stream",
          "name": "stdout",
          "text": [
            "The array formed :[ 10.    13.75  17.5   21.25  25.    28.75  32.5   36.25  40.    43.75\n",
            "  47.5   51.25  55.    58.75  62.5   66.25  70.    73.75  77.5   81.25\n",
            "  85.    88.75  92.5   96.25 100.  ]\n",
            "Dimensions :1\n",
            "Shape: (25,)\n",
            "Elements: 25\n",
            "Data type :float64\n",
            "Bytes per elements: 8\n",
            "Total bytes: 200\n",
            "Reshaped :[[ 10.  ]\n",
            " [ 13.75]\n",
            " [ 17.5 ]\n",
            " [ 21.25]\n",
            " [ 25.  ]\n",
            " [ 28.75]\n",
            " [ 32.5 ]\n",
            " [ 36.25]\n",
            " [ 40.  ]\n",
            " [ 43.75]\n",
            " [ 47.5 ]\n",
            " [ 51.25]\n",
            " [ 55.  ]\n",
            " [ 58.75]\n",
            " [ 62.5 ]\n",
            " [ 66.25]\n",
            " [ 70.  ]\n",
            " [ 73.75]\n",
            " [ 77.5 ]\n",
            " [ 81.25]\n",
            " [ 85.  ]\n",
            " [ 88.75]\n",
            " [ 92.5 ]\n",
            " [ 96.25]\n",
            " [100.  ]]\n",
            "[[ 10.    13.75  17.5   21.25  25.    28.75  32.5   36.25  40.    43.75\n",
            "   47.5   51.25  55.    58.75  62.5   66.25  70.    73.75  77.5   81.25\n",
            "   85.    88.75  92.5   96.25 100.  ]]\n"
          ]
        }
      ]
    },
    {
      "cell_type": "markdown",
      "source": [
        "**Q5.** Create a 2-D Array of three rows and four columns, named ucs420_<\\your_name>> with following values – 10, 20, 30, 40, 50, 60, 70, 80, 90, 15, 20, 35. Compute the mean, median, max, min, unique elements.\n",
        "\n",
        " Reshape the array to four rows and three columns and name it as reshaped_ ucs420_<\\your_name>>. Resize the array to two rows and three columns and name it as resized_ ucs420_<\\your_name>>."
      ],
      "metadata": {
        "id": "S8l1TIw-rsrk"
      }
    },
    {
      "cell_type": "code",
      "source": [
        "ucs420_JasmanSingh = np.array([10, 20, 30, 40, 50, 60, 70, 80, 90, 15, 20, 35])\n",
        "ucs420_JasmanSingh = ucs420_JasmanSingh.reshape(3,4)\n",
        "print(f'Original :{ucs420_JasmanSingh}')\n",
        "\n",
        "print(f'Mean: {np.mean(ucs420_JasmanSingh)}')\n",
        "print(f'Median: {np.median(ucs420_JasmanSingh)}')\n",
        "print(f'Max: {np.max(ucs420_JasmanSingh)}')\n",
        "print(f'Min: {np.min(ucs420_JasmanSingh)}')\n",
        "\n",
        "x,y=np.unique(ucs420_JasmanSingh, return_counts= True)\n",
        "print(f'Unique Elements: {x}')\n",
        "print(f'Their count: {y}')\n",
        "\n",
        "reshaped_ucs420_JasmanSingh = ucs420_JasmanSingh.reshape(4,3)\n",
        "print(f'Reshaped : {reshaped_ucs420_JasmanSingh}')\n",
        "resized_ucs420_JasmanSingh = ucs420_JasmanSingh.copy()\n",
        "resized_ucs420_JasmanSingh.resize(2, 3)\n",
        "print(f'Resized: {resized_ucs420_JasmanSingh}')"
      ],
      "metadata": {
        "colab": {
          "base_uri": "https://localhost:8080/"
        },
        "id": "LddYxfX8rzbI",
        "outputId": "952cdad9-e6c3-4ea9-9375-6c381c4bc7d2"
      },
      "execution_count": 29,
      "outputs": [
        {
          "output_type": "stream",
          "name": "stdout",
          "text": [
            "Original :[[10 20 30 40]\n",
            " [50 60 70 80]\n",
            " [90 15 20 35]]\n",
            "Mean: 43.333333333333336\n",
            "Median: 37.5\n",
            "Max: 90\n",
            "Min: 10\n",
            "Unique Elements: [10 15 20 30 35 40 50 60 70 80 90]\n",
            "Their count: [1 1 2 1 1 1 1 1 1 1 1]\n",
            "Reshaped : [[10 20 30]\n",
            " [40 50 60]\n",
            " [70 80 90]\n",
            " [15 20 35]]\n",
            "Resized: [[10 20 30]\n",
            " [40 50 60]]\n"
          ]
        }
      ]
    }
  ]
}